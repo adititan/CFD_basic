{
 "cells": [
  {
   "cell_type": "markdown",
   "metadata": {},
   "source": [
    "##### Consider the linear advection equation with a=1.  Implement the FTFS, FTCS and FTBS schemes for this problem.\n",
    "\n",
    "Ques 1. Consider the unit domain [0,1] with IC and BC's as\n",
    "\n",
    "u(0, t) = 1.0\n",
    "\n",
    "u(x, 0) = 0.0 for x> 0\n",
    "\n",
    " Solve this problem using the different schemes using 50 grid points but with different CFL values < 1, = 1 and > 1.  Report your results systematically.  Simulate the problem for a time of at least 1 second.\n",
    " \n",
    " \n",
    "Ques 2. Consider the IC and BC's as:\n",
    "u(0, t) = 0.0\n",
    "\n",
    "u(x, 0) = sin(2*pi*x)\n",
    "\n",
    "Also consider the following:\n",
    "\n",
    "u(x, 0) = sin(2*pi*x) + sin(20*pi*x)\n",
    "\n",
    "Use 100 points for this case.\n",
    "\n",
    "Ques3.  Consider a periodic domain [-1,1] and solve the following test cases introduced by Laney but using the stable FTBS scheme and using the FTCS2 scheme which was discussed and used by Prof. Ramakrishna in the demo and class.\n",
    "\n",
    "Test case 1\n",
    "\n",
    "a = 1\n",
    "\n",
    "u(x, 0) = -sin(\\pi x)\n",
    "\n",
    "Find u(x, 30)\n",
    "\n",
    "Use 40 evenly spaced points, with CFL=0.8.\n",
    "\n",
    "\n",
    "\n",
    "Test case 2\n",
    "\n",
    "\n",
    "\n",
    "Find u(x, 4) where:\n",
    "\n",
    "u(x,0)=1 where |x|<1/3       \n",
    "&     =0 where 1/3<|x|≤1\n",
    "CFL = 0.8, 40 points\n",
    "\n",
    "Test case 3\n",
    "\n",
    "Find u(x, 4) and u(x,40) with same IC as test case 2 use 600 initial points.\n"
   ]
  },
  {
   "cell_type": "code",
   "execution_count": 265,
   "metadata": {
    "collapsed": false
   },
   "outputs": [],
   "source": [
    "%matplotlib inline\n",
    "import numpy as np\n",
    "import matplotlib.animation as animation\n",
    "import matplotlib.pyplot as plt\n",
    "from copy import deepcopy"
   ]
  },
  {
   "cell_type": "code",
   "execution_count": 278,
   "metadata": {
    "collapsed": false
   },
   "outputs": [],
   "source": [
    "def initialize_grid(x_max,x_min,time,cfl,a,N):\n",
    "    dx = (x_max - x_min) /(N-1)\n",
    "    dt = cfl/a*dx \n",
    "    n_iter = int((time/dt) - 0.5) + 1\n",
    "    phi = [[0.0 for _ in range(N)] for _ in range(n_iter)]\n",
    "    return phi,n_iter\n",
    "\n",
    "def set_boundary_conditions( phi, N, at_t_0, at_x_0):\n",
    "    for i in range(len(at_x_0)):\n",
    "        phi[i][0] = at_x_0[i]\n",
    "    phi[0][1:] = at_t_0\n",
    "    return phi"
   ]
  },
  {
   "cell_type": "code",
   "execution_count": 280,
   "metadata": {
    "collapsed": false
   },
   "outputs": [],
   "source": [
    "def do_FTCS(phi,n_iter,N,cfl):\n",
    "    for t in range(1,n_iter):\n",
    "        for i in range(1,N-1):\n",
    "            phi[t][i]= phi[t-1][i] -cfl*(phi[t-1][i+1] - phi[t-1][i-1])/2.0\n",
    "    return phi\n",
    "\n",
    "def do_FTFS(phi,n_iter,N,cfl):\n",
    "    for t in range(1,n_iter):\n",
    "        for i in range(1,N-1):\n",
    "            phi[t][i]= phi[t-1][i] -cfl*(phi[t-1][i+1] - phi[t-1][i])\n",
    "    return phi\n",
    "    \n",
    "def do_FTBS(phi,n_iter,N,cfl):\n",
    "    for t in range(1,n_iter):\n",
    "        for i in range(1,N-1):\n",
    "            phi[t][i]= phi[t-1][i] -cfl*(phi[t-1][i] - phi[t-1][i-1])\n",
    "    return phi\n",
    "\n",
    "def do_FTCS2(phi,n_iter,N,cfl):\n",
    "    for t in range(1,n_iter):\n",
    "        for i in range(1,N-1):\n",
    "            phi[t][i]= phi[t-1][i] -cfl*0.5*(phi[t-1][i+1] - phi[t-1][i-1]) + cfl**2*0.5*(phi[t-1][i+1] + phi[t-1][i-1] - 2*phi[t-1][i]) \n",
    "    return phi"
   ]
  },
  {
   "cell_type": "code",
   "execution_count": 281,
   "metadata": {
    "collapsed": false
   },
   "outputs": [],
   "source": [
    "def animate(phi,x):\n",
    "    plt.ion()\n",
    "    ax = plt.gca()\n",
    "    ax.set_autoscale_on(True)\n",
    "    line, = ax.plot(x, phi[0])\n",
    "    for i in range(len(phi)):\n",
    "        line.set_ydata(phi[i][:])\n",
    "        ax.relim()\n",
    "        ax.autoscale_view(True, True, True)\n",
    "        plt.draw()\n",
    "        plt.pause(0.2)\n",
    "    plt.ioff()\n",
    "    plt.plot(x, phi[-1][:])\n",
    "    plt.show()"
   ]
  },
  {
   "cell_type": "code",
   "execution_count": 287,
   "metadata": {
    "collapsed": false
   },
   "outputs": [],
   "source": [
    "def question1(N,cfl,a,func):\n",
    "    phi,n_iter = initialize_grid(1.0,0.0,1.0,cfl,a,N)\n",
    "    set_boundary_conditions(phi,N,[0.0]*(N-1),[1.0]*n_iter)\n",
    "    func(phi,n_iter,N,cfl)\n",
    "    x = np.linspace(x_min,x_max,N)\n",
    "    animate(phi,x)\n",
    "    return phi\n",
    "\n",
    "def question2(N,cfl,a,func,var = 0.0):\n",
    "    phi,n_iter = initialize_grid(1.0,0.0,1.0,cfl,a,N)\n",
    "    xi = np.linspace(x_min,x_max,N) \n",
    "    sine  = [ np.sin(2.0*np.pi*xi[i]) + var*np.sin(20.0*np.pi*xi[i]) for i in range(N)]\n",
    "    set_boundary_conditions(phi,N,sine[:-1],[0.0]*n_iter)\n",
    "    func(phi,n_iter,N,cfl)\n",
    "    animate(phi,xi)\n",
    "    return phi\n",
    "\n",
    "def question3(N,cfl,a,func,time):\n",
    "    phi,n_iter = initialize_grid(1.0,-1.0,time,cfl,a,N)\n",
    "    xi = np.linspace(x_min,x_max,N) \n",
    "    sine  = [ np.sin(np.pi*xi[i]) for i in range(N)]\n",
    "    set_boundary_conditions(phi,N,sine[:-1],[0.0]*n_iter)\n",
    "    func(phi,n_iter,N,cfl)\n",
    "    animate(phi,xi)\n",
    "    return phi\n",
    "    return N"
   ]
  },
  {
   "cell_type": "code",
   "execution_count": 289,
   "metadata": {
    "collapsed": false
   },
   "outputs": [
    {
     "ename": "KeyboardInterrupt",
     "evalue": "",
     "output_type": "error",
     "traceback": [
      "\u001b[0;31m---------------------------------------------------------------------------\u001b[0m",
      "\u001b[0;31mKeyboardInterrupt\u001b[0m                         Traceback (most recent call last)",
      "\u001b[0;32m<ipython-input-289-15dcb1d30f6c>\u001b[0m in \u001b[0;36m<module>\u001b[0;34m()\u001b[0m\n\u001b[1;32m     13\u001b[0m     phi = question2(100,0.4,1.0,do_FTBS,1.0)\"\"\"\n\u001b[1;32m     14\u001b[0m     \u001b[0;31m#Question3(i)\u001b[0m\u001b[0;34m\u001b[0m\u001b[0;34m\u001b[0m\u001b[0m\n\u001b[0;32m---> 15\u001b[0;31m     \u001b[0mphi\u001b[0m \u001b[0;34m=\u001b[0m \u001b[0mquestion3\u001b[0m\u001b[0;34m(\u001b[0m\u001b[0;36m40\u001b[0m\u001b[0;34m,\u001b[0m\u001b[0;36m0.8\u001b[0m\u001b[0;34m,\u001b[0m\u001b[0;36m1.0\u001b[0m\u001b[0;34m,\u001b[0m\u001b[0mdo_FTCS2\u001b[0m\u001b[0;34m,\u001b[0m\u001b[0;36m30.0\u001b[0m\u001b[0;34m)\u001b[0m\u001b[0;34m\u001b[0m\u001b[0m\n\u001b[0m\u001b[1;32m     16\u001b[0m     \u001b[0mphi\u001b[0m \u001b[0;34m=\u001b[0m \u001b[0mquestion3\u001b[0m\u001b[0;34m(\u001b[0m\u001b[0;36m40\u001b[0m\u001b[0;34m,\u001b[0m\u001b[0;36m0.8\u001b[0m\u001b[0;34m,\u001b[0m\u001b[0;36m1.0\u001b[0m\u001b[0;34m,\u001b[0m\u001b[0mdo_FTBS\u001b[0m\u001b[0;34m,\u001b[0m\u001b[0;36m30.0\u001b[0m\u001b[0;34m)\u001b[0m\u001b[0;34m\u001b[0m\u001b[0m\n\u001b[1;32m     17\u001b[0m     \u001b[0;31m#Question3(ii)\u001b[0m\u001b[0;34m\u001b[0m\u001b[0;34m\u001b[0m\u001b[0m\n",
      "\u001b[0;32m<ipython-input-287-a3d4d5e1693f>\u001b[0m in \u001b[0;36mquestion3\u001b[0;34m(N, cfl, a, func, time)\u001b[0m\n\u001b[1;32m     22\u001b[0m     \u001b[0mset_boundary_conditions\u001b[0m\u001b[0;34m(\u001b[0m\u001b[0mphi\u001b[0m\u001b[0;34m,\u001b[0m\u001b[0mN\u001b[0m\u001b[0;34m,\u001b[0m\u001b[0msine\u001b[0m\u001b[0;34m[\u001b[0m\u001b[0;34m:\u001b[0m\u001b[0;34m-\u001b[0m\u001b[0;36m1\u001b[0m\u001b[0;34m]\u001b[0m\u001b[0;34m,\u001b[0m\u001b[0;34m[\u001b[0m\u001b[0;36m0.0\u001b[0m\u001b[0;34m]\u001b[0m\u001b[0;34m*\u001b[0m\u001b[0mn_iter\u001b[0m\u001b[0;34m)\u001b[0m\u001b[0;34m\u001b[0m\u001b[0m\n\u001b[1;32m     23\u001b[0m     \u001b[0mfunc\u001b[0m\u001b[0;34m(\u001b[0m\u001b[0mphi\u001b[0m\u001b[0;34m,\u001b[0m\u001b[0mn_iter\u001b[0m\u001b[0;34m,\u001b[0m\u001b[0mN\u001b[0m\u001b[0;34m,\u001b[0m\u001b[0mcfl\u001b[0m\u001b[0;34m)\u001b[0m\u001b[0;34m\u001b[0m\u001b[0m\n\u001b[0;32m---> 24\u001b[0;31m     \u001b[0manimate\u001b[0m\u001b[0;34m(\u001b[0m\u001b[0mphi\u001b[0m\u001b[0;34m,\u001b[0m\u001b[0mxi\u001b[0m\u001b[0;34m)\u001b[0m\u001b[0;34m\u001b[0m\u001b[0m\n\u001b[0m\u001b[1;32m     25\u001b[0m     \u001b[0;32mreturn\u001b[0m \u001b[0mphi\u001b[0m\u001b[0;34m\u001b[0m\u001b[0m\n\u001b[1;32m     26\u001b[0m     \u001b[0;32mreturn\u001b[0m \u001b[0mN\u001b[0m\u001b[0;34m\u001b[0m\u001b[0m\n",
      "\u001b[0;32m<ipython-input-281-d339f77a15cd>\u001b[0m in \u001b[0;36manimate\u001b[0;34m(phi, x)\u001b[0m\n\u001b[1;32m      9\u001b[0m         \u001b[0max\u001b[0m\u001b[0;34m.\u001b[0m\u001b[0mautoscale_view\u001b[0m\u001b[0;34m(\u001b[0m\u001b[0mTrue\u001b[0m\u001b[0;34m,\u001b[0m \u001b[0mTrue\u001b[0m\u001b[0;34m,\u001b[0m \u001b[0mTrue\u001b[0m\u001b[0;34m)\u001b[0m\u001b[0;34m\u001b[0m\u001b[0m\n\u001b[1;32m     10\u001b[0m         \u001b[0mplt\u001b[0m\u001b[0;34m.\u001b[0m\u001b[0mdraw\u001b[0m\u001b[0;34m(\u001b[0m\u001b[0;34m)\u001b[0m\u001b[0;34m\u001b[0m\u001b[0m\n\u001b[0;32m---> 11\u001b[0;31m         \u001b[0mplt\u001b[0m\u001b[0;34m.\u001b[0m\u001b[0mpause\u001b[0m\u001b[0;34m(\u001b[0m\u001b[0;36m0.2\u001b[0m\u001b[0;34m)\u001b[0m\u001b[0;34m\u001b[0m\u001b[0m\n\u001b[0m\u001b[1;32m     12\u001b[0m     \u001b[0mplt\u001b[0m\u001b[0;34m.\u001b[0m\u001b[0mioff\u001b[0m\u001b[0;34m(\u001b[0m\u001b[0;34m)\u001b[0m\u001b[0;34m\u001b[0m\u001b[0m\n\u001b[1;32m     13\u001b[0m     \u001b[0mplt\u001b[0m\u001b[0;34m.\u001b[0m\u001b[0mplot\u001b[0m\u001b[0;34m(\u001b[0m\u001b[0mx\u001b[0m\u001b[0;34m,\u001b[0m \u001b[0mphi\u001b[0m\u001b[0;34m[\u001b[0m\u001b[0;34m-\u001b[0m\u001b[0;36m1\u001b[0m\u001b[0;34m]\u001b[0m\u001b[0;34m[\u001b[0m\u001b[0;34m:\u001b[0m\u001b[0;34m]\u001b[0m\u001b[0;34m)\u001b[0m\u001b[0;34m\u001b[0m\u001b[0m\n",
      "\u001b[0;32m/usr/lib/python2.7/dist-packages/matplotlib/pyplot.pyc\u001b[0m in \u001b[0;36mpause\u001b[0;34m(interval)\u001b[0m\n\u001b[1;32m    202\u001b[0m     \u001b[0;31m# No on-screen figure is active, so sleep() is all we need.\u001b[0m\u001b[0;34m\u001b[0m\u001b[0;34m\u001b[0m\u001b[0m\n\u001b[1;32m    203\u001b[0m     \u001b[0;32mimport\u001b[0m \u001b[0mtime\u001b[0m\u001b[0;34m\u001b[0m\u001b[0m\n\u001b[0;32m--> 204\u001b[0;31m     \u001b[0mtime\u001b[0m\u001b[0;34m.\u001b[0m\u001b[0msleep\u001b[0m\u001b[0;34m(\u001b[0m\u001b[0minterval\u001b[0m\u001b[0;34m)\u001b[0m\u001b[0;34m\u001b[0m\u001b[0m\n\u001b[0m\u001b[1;32m    205\u001b[0m \u001b[0;34m\u001b[0m\u001b[0m\n\u001b[1;32m    206\u001b[0m \u001b[0;34m\u001b[0m\u001b[0m\n",
      "\u001b[0;31mKeyboardInterrupt\u001b[0m: "
     ]
    },
    {
     "data": {
      "image/png": "[encoded data removed]",
      "text/plain": [
       "<matplotlib.figure.Figure at 0x7f9c3237cfd0>"
      ]
     },
     "metadata": {},
     "output_type": "display_data"
    }
   ],
   "source": [
    "if __name__ == '__main__':\n",
    "    #Question 1\n",
    "    \"\"\"phi = question1(50,0.4,1.0,do_FTCS)\n",
    "    phi = question1(50,0.4,1.0,do_FTFS)\n",
    "    phi = question1(50,0.4,1.0,do_FTBS)\"\"\"\n",
    "    #Question 2(i)\n",
    "    \"\"\"phi = question2(100,0.4,1.0,do_FTCS)\n",
    "    phi = question2(100,0.4,1.0,do_FTFS)\n",
    "    phi = question2(100,0.4,1.0,do_FTBS)\n",
    "    #Question 2(ii)\n",
    "    phi = question2(100,0.4,1.0,do_FTCS,1.0)\n",
    "    phi = question2(100,0.4,1.0,do_FTFS,1.0)\n",
    "    phi = question2(100,0.4,1.0,do_FTBS,1.0)\"\"\"\n",
    "    #Question3(i)\n",
    "    phi = question3(40,0.8,1.0,do_FTCS2,30.0)\n",
    "    phi = question3(40,0.8,1.0,do_FTBS,30.0)\n",
    "    #Question3(ii)\n",
    "    #Question3(iii)"
   ]
  },
  {
   "cell_type": "code",
   "execution_count": null,
   "metadata": {
    "collapsed": true
   },
   "outputs": [],
   "source": []
  },
  {
   "cell_type": "code",
   "execution_count": null,
   "metadata": {
    "collapsed": true
   },
   "outputs": [],
   "source": []
  },
  {
   "cell_type": "code",
   "execution_count": null,
   "metadata": {
    "collapsed": true
   },
   "outputs": [],
   "source": []
  }
 ],
 "metadata": {
  "kernelspec": {
   "display_name": "Python 2",
   "language": "python",
   "name": "python2"
  },
  "language_info": {
   "codemirror_mode": {
    "name": "ipython",
    "version": 2
   },
   "file_extension": ".py",
   "mimetype": "text/x-python",
   "name": "python",
   "nbconvert_exporter": "python",
   "pygments_lexer": "ipython2",
   "version": "2.7.10"
  }
 },
 "nbformat": 4,
 "nbformat_minor": 1
}
